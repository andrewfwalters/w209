{
 "cells": [
  {
   "cell_type": "code",
   "execution_count": 11,
   "metadata": {},
   "outputs": [],
   "source": [
    "import tabpy_client\n",
    "connection = tabpy_client.Client(\"http://localhost:9004/\")"
   ]
  },
  {
   "cell_type": "code",
   "execution_count": 12,
   "metadata": {},
   "outputs": [],
   "source": [
    "def DistanceVector(home_addr, home_zip, target_lat, target_long):\n",
    "    import numpy as np\n",
    "    from geopy.geocoders import Nominatim\n",
    "    from geopy.exc import GeocoderTimedOut\n",
    "    from geopy.distance import geodesic\n",
    "    from geopy.distance import great_circle\n",
    "    geolocator = Nominatim()\n",
    "    addr = str(home_addr) + \" Philadelphia, PA \" + str(home_zip)\n",
    "    home = {}\n",
    "    # try geocoder 3 times\n",
    "    for i in range(0,1):\n",
    "        try:\n",
    "            location = geolocator.geocode(addr)\n",
    "            home = (location.latitude,location.longitude)\n",
    "            break\n",
    "        except GeocoderTimedOut:\n",
    "            print(\"Geocoder Timed Out. Address =\", addr)\n",
    "            continue\n",
    "        except AttributeError:\n",
    "            home = (0.0,0.0)\n",
    "            continue\n",
    "\n",
    "    dist = []\n",
    "    for lat,long in zip(_arg3,_arg4):\n",
    "        current = great_circle(home, (lat,long)).miles\n",
    "        dist.append(current)\n",
    "    return dist"
   ]
  },
  {
   "cell_type": "code",
   "execution_count": 13,
   "metadata": {},
   "outputs": [
    {
     "name": "stdout",
     "output_type": "stream",
     "text": [
      "[5520.414123326907, 5601.9387748157915, 5631.3542189556465]\n"
     ]
    }
   ],
   "source": [
    "_arg1 = \"905 N Randolph Street\"\n",
    "_arg2 = \"19123\"\n",
    "_arg3 = [10.0,20.0,30.0]\n",
    "_arg4 = [10.0,20.0,30.0]\n",
    "print(DistanceVector(_arg1,_arg2,_arg3,_arg4))"
   ]
  },
  {
   "cell_type": "code",
   "execution_count": 14,
   "metadata": {},
   "outputs": [],
   "source": [
    "connection.deploy('DistanceVector',DistanceVector,'Calculate distance from home to school.',override = True)"
   ]
  },
  {
   "cell_type": "code",
   "execution_count": null,
   "metadata": {
    "collapsed": true
   },
   "outputs": [],
   "source": []
  }
 ],
 "metadata": {
  "kernelspec": {
   "display_name": "Python 3",
   "language": "python",
   "name": "python3"
  },
  "language_info": {
   "codemirror_mode": {
    "name": "ipython",
    "version": 3
   },
   "file_extension": ".py",
   "mimetype": "text/x-python",
   "name": "python",
   "nbconvert_exporter": "python",
   "pygments_lexer": "ipython3",
   "version": "3.6.3"
  }
 },
 "nbformat": 4,
 "nbformat_minor": 2
}
